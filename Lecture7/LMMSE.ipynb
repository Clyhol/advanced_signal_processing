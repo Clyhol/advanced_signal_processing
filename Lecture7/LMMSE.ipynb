{
 "cells": [
  {
   "cell_type": "code",
   "execution_count": 1,
   "metadata": {},
   "outputs": [],
   "source": [
    "import numpy as np\n",
    "from numpy.random import multivariate_normal\n",
    "import matplotlib.pyplot as plt\n",
    "from numpy import linalg as LA"
   ]
  },
  {
   "cell_type": "markdown",
   "metadata": {},
   "source": [
    "## Estimate outcome of Gaussian random variable using LMMSE\n",
    "Estimate observation X_4 based on observations, X_1, X_2 and X_3.\n",
    "Means of all observations are known"
   ]
  },
  {
   "cell_type": "markdown",
   "metadata": {},
   "source": [
    "#### Write up the LMMSE expression for estimating X_4\n",
    "$\\hat{\\theta} = E[\\theta] + C_{\\theta X} C_{X X}^{-1} (X-E[X])$\n",
    "\n",
    "where,\n",
    "\n",
    "$\\hat{\\theta}$ is the outcome of X_4\n",
    "\n",
    "$\\theta$ is the X_4 random process\n",
    "\n",
    "$C_{\\theta X}$ is the 3 entries of the last column in the covatiance matrix (X_4 correlation to the data [X_1, X_2, X_3])\n",
    "\n",
    "$C_{X X}$ is the covariance matrix without the last column and row (X_4)\n",
    "\n",
    "$X$ is the data [X_1, X_2, X_3]"
   ]
  },
  {
   "cell_type": "code",
   "execution_count": 2,
   "metadata": {},
   "outputs": [],
   "source": [
    "X_means = np.array([1,-3,0])\n",
    "theta_mean = np.array([2])\n",
    "X_cov = np.array([[1,-1,0.5], [-1,5,2.5], [0.5, 2.5, 6.5]])\n",
    "theta_cov = np.array([-1,3,2])"
   ]
  },
  {
   "cell_type": "markdown",
   "metadata": {},
   "source": [
    "#### Compute the coefficients and the MSE for a LMMSE estimator of X_4\n",
    "$h_0 = E[\\theta] - h^T E[X]$\n",
    "\n",
    "$h = C_{X X}^{-1} C_{X \\theta}$"
   ]
  },
  {
   "cell_type": "code",
   "execution_count": 3,
   "metadata": {},
   "outputs": [
    {
     "name": "stdout",
     "output_type": "stream",
     "text": [
      "h:  [-0.8125  0.3125  0.25  ]\n",
      "h_0:  [3.75]\n",
      "MSE:  0.25\n"
     ]
    }
   ],
   "source": [
    "# first we inverse the covariance matrix\n",
    "X_cov_inv = LA.inv(X_cov)\n",
    "\n",
    "# use this to find coefficients\n",
    "h = np.dot(X_cov_inv, theta_cov.T)\n",
    "\n",
    "# find the constant term\n",
    "h_0 = theta_mean - np.dot(h.T, X_means)\n",
    "\n",
    "print(\"h: \", h)\n",
    "print(\"h_0: \", h_0)\n",
    "\n",
    "theta_var = 2.5\n",
    "MSE = theta_var - np.dot(theta_cov, X_cov_inv).dot(theta_cov.T)\n",
    "print(\"MSE: \", MSE)\n"
   ]
  },
  {
   "cell_type": "markdown",
   "metadata": {},
   "source": [
    "#### Estimate X_4 using LMMSE\n",
    "Use observations:\n",
    "\n",
    "$X_1 = 0.5, X_2 = -1, X_3 = 4"
   ]
  },
  {
   "cell_type": "code",
   "execution_count": 4,
   "metadata": {},
   "outputs": [
    {
     "name": "stdout",
     "output_type": "stream",
     "text": [
      "LMMSE:  [4.1125]\n"
     ]
    }
   ],
   "source": [
    "X = [0.4, -1, 4]\n",
    "\n",
    "def LMMSE(X, h, h_0):\n",
    "    return h_0 + np.dot(h.T, X)\n",
    "\n",
    "print(\"LMMSE: \", LMMSE(X, h, h_0))"
   ]
  },
  {
   "cell_type": "markdown",
   "metadata": {},
   "source": [
    "### Generate realizations of X and estimate X_4\n",
    "Use realizations of X_1, X_2 and X_3 to estimate X_4"
   ]
  },
  {
   "cell_type": "code",
   "execution_count": 64,
   "metadata": {},
   "outputs": [
    {
     "name": "stdout",
     "output_type": "stream",
     "text": [
      "Covariance matrix:  [[ 1.  -1.   0.5 -1. ]\n",
      " [-1.   5.   2.5  3. ]\n",
      " [ 0.5  2.5  6.5  2. ]\n",
      " [-1.   3.   2.   2.5]]\n",
      "Error:  -0.008282657622566306\n",
      "MSE:  0.25695834031406856\n"
     ]
    }
   ],
   "source": [
    "cov = np.array([[1, -1, 0.5, -1], [-1, 5, 2.5, 3], [0.5, 2.5, 6.5, 2], [-1, 3, 2, 2.5]])\n",
    "means = [1, -3, 0, 2]\n",
    "num_samples = 1000\n",
    "print(\"Covariance matrix: \", cov)\n",
    "\n",
    "X = multivariate_normal(means, cov, num_samples)\n",
    "X_4_hat = np.zeros(num_samples)\n",
    "for i in range(num_samples):\n",
    "    X_4_hat[i] = LMMSE(X[i, :3], h, h_0[0])\n",
    "\n",
    "error_avg = np.mean(X_4_hat - X[:, 3])\n",
    "print(\"Error: \", error_avg)\n",
    "mse_avg = np.mean((X_4_hat - X[:, 3])**2)\n",
    "print(\"MSE: \", mse_avg)\n"
   ]
  }
 ],
 "metadata": {
  "kernelspec": {
   "display_name": "venv",
   "language": "python",
   "name": "python3"
  },
  "language_info": {
   "codemirror_mode": {
    "name": "ipython",
    "version": 3
   },
   "file_extension": ".py",
   "mimetype": "text/x-python",
   "name": "python",
   "nbconvert_exporter": "python",
   "pygments_lexer": "ipython3",
   "version": "3.10.12"
  }
 },
 "nbformat": 4,
 "nbformat_minor": 2
}
