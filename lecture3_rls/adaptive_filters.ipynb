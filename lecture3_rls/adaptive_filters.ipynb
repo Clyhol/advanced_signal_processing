{
 "cells": [
  {
   "cell_type": "markdown",
   "metadata": {},
   "source": [
    "## Implement LMS, NLMS and RLS filters and compare performance for noise filtering"
   ]
  },
  {
   "cell_type": "code",
   "execution_count": 1,
   "metadata": {},
   "outputs": [],
   "source": [
    "import numpy as np\n",
    "from scipy.io.wavfile import read, write\n",
    "import time\n"
   ]
  },
  {
   "cell_type": "code",
   "execution_count": 2,
   "metadata": {},
   "outputs": [],
   "source": [
    "# load data and normalize\n",
    "fs1, d = read('data/Noise.wav')\n",
    "d = d/max(d)\n",
    "# Signal\n",
    "fs1, x = read('data/Music.wav')\n",
    "x = x/max(x)\n",
    "# Noisy signal\n",
    "Fs, u = read('data/Noisy_Music.wav')\n",
    "u_max = max(u)\n",
    "u = u/u_max"
   ]
  },
  {
   "cell_type": "code",
   "execution_count": 3,
   "metadata": {},
   "outputs": [],
   "source": [
    "def calc_power(signal):\n",
    "    return np.mean(np.abs(signal)**2)\n",
    "\n",
    "def calc_SNR(signal, noise):\n",
    "    P_sig = calc_power(signal)\n",
    "    P_noise = calc_power(noise)\n",
    "    return 10*np.log10(P_sig/P_noise)"
   ]
  },
  {
   "cell_type": "code",
   "execution_count": 13,
   "metadata": {},
   "outputs": [
    {
     "name": "stdout",
     "output_type": "stream",
     "text": [
      "LMS took 1.86 seconds\n",
      "SNR before filtering: -0.09 dB\n",
      "SNR after filtering with LMS: 1.67 dB\n"
     ]
    }
   ],
   "source": [
    "# implement LMS\n",
    "LMS_start = time.time()\n",
    "\n",
    "# setup filter parameters\n",
    "N = len(d)\n",
    "M = 12\n",
    "# to find the appropriate step size, we need to estimate the power of the signal\n",
    "P_u = 1/N * np.sum(u**2)\n",
    "# mu is found with (mu = alpha / P_u), where alpha is a small constant between 0.01 and 0.1. Stability is guaranteed if mu < 2 / P_u\n",
    "mu = 0.01 / P_u\n",
    "\n",
    "w_lms = np.zeros(M) # initialize filter weights at 0\n",
    "u_pad = np.pad(u, (M-1, 0), 'constant') # pad noisy signal with zeros\n",
    "y = np.zeros(N) # initialize output signal\n",
    "\n",
    "for n in range(0, N):\n",
    "    u_samples = u_pad[n:n+M] # grab M amount of samples from observed signal (-1 because we want to go backwards)\n",
    "    e = d[n] - np.matmul(w_lms,u_samples) # calculate error\n",
    "    w_lms = w_lms + mu*e*u_samples # update weights\n",
    "    y[n] = np.matmul(w_lms, u_samples) # apply weights to observed signal\n",
    "LMS_done = time.time()\n",
    "    \n",
    "# calculate and save output signal\n",
    "LMS_output = u - y\n",
    "write(f\"lms_filtered.wav\", Fs, (LMS_output*u_max).astype(np.int16))\n",
    "\n",
    "#evaluate LMS with time and SNR\n",
    "print(f\"LMS took {LMS_done - LMS_start:.2f} seconds\")\n",
    "SNR_before = calc_SNR(x, u-x)\n",
    "print(f\"SNR before filtering: {SNR_before:.2f} dB\")\n",
    "SNR_after = calc_SNR(x, LMS_output - x)\n",
    "print(f\"SNR after filtering with LMS: {SNR_after:.2f} dB\")\n"
   ]
  },
  {
   "cell_type": "code",
   "execution_count": 5,
   "metadata": {},
   "outputs": [
    {
     "name": "stdout",
     "output_type": "stream",
     "text": [
      "NLMS took 3.04 seconds\n",
      "SNR before filtering: -0.09 dB\n",
      "SNR after filtering with NLMS: 3.21 dB\n"
     ]
    }
   ],
   "source": [
    "# implement NLMS\n",
    "NLMS_start = time.time()\n",
    "\n",
    "# setup filter parameters\n",
    "N = len(d) # number of samples\n",
    "M = 12 # filter order\n",
    "mu = 1 # for some reason I get better results with a fixed step size of 1 instead of relating it to the power of the input signal\n",
    "w_nlms = np.zeros(M) # initialize filter weights at 0\n",
    "u_pad = np.pad(u, (M-1, 0), 'constant') # pad noisy signal with zeros\n",
    "y = np.zeros(N) # initialize output signal\n",
    "epsilon = 0.0001 # small constant to avoid division by zero when updating step size, mu\n",
    "\n",
    "for n in range(0, N):\n",
    "    u_samples = u_pad[n:n+M] # grab M amount of samples from observed signal\n",
    "    mu_adapt = mu / (epsilon + np.linalg.norm(u_samples, ord=2)**2) # update step size by normalizing with the power of the input signal\n",
    "    e = d[n] - w_nlms@u_samples # calculate error\n",
    "    w_nlms = w_nlms + mu_adapt*e*u_samples # update weights\n",
    "    y[n] = w_nlms@u_samples # apply weights to observed signal\n",
    "NLMS_done = time.time()\n",
    "\n",
    "# calculate and save output signal\n",
    "NLMS_output = u - y\n",
    "write(f\"nlms_filtered.wav\", Fs, (NLMS_output*u_max).astype(np.int16))\n",
    "\n",
    "#evaluate LMS with time and SNR\n",
    "print(f\"NLMS took {NLMS_done - NLMS_start:.2f} seconds\")\n",
    "SNR_before = calc_SNR(x, u-x)\n",
    "print(f\"SNR before filtering: {SNR_before:.2f} dB\")\n",
    "SNR_after = calc_SNR(x, NLMS_output - x)\n",
    "print(f\"SNR after filtering with NLMS: {SNR_after:.2f} dB\")"
   ]
  },
  {
   "cell_type": "code",
   "execution_count": 6,
   "metadata": {},
   "outputs": [
    {
     "name": "stdout",
     "output_type": "stream",
     "text": [
      "RLS took 5.97 seconds\n",
      "SNR before filtering: -0.09 dB\n",
      "SNR after filtering with RLS: 3.22 dB\n"
     ]
    }
   ],
   "source": [
    "# implement RLS\n",
    "RLS_start = time.time()\n",
    "\n",
    "# setup filter parameters\n",
    "N = len(d) # number of samples\n",
    "M = 12 # filter order\n",
    "delta = 0.001 # weight of initial filter coefficients\n",
    "lmbd = 0.16 # forgetting factor\n",
    "p_inversecorr = 1/delta*np.identity(M) # initialize inverse correlation matrix\n",
    "w_rls = np.zeros(M) # initialize filter weights at 0\n",
    "u_pad = np.pad(u, (M-1, 0), 'constant') # pad noisy signal with zeros\n",
    "y = np.zeros(N) # initialize output signal\n",
    "\n",
    "for n in range(0, N):\n",
    "    u_samples = u_pad[n:n+M] # grab M amount of samples from observed signal\n",
    "    pi_func = p_inversecorr@u_samples # calculate helper vector used to update gain vector K\n",
    "    k_gain = pi_func / (lmbd + u_samples@pi_func) # calculate gain vector\n",
    "    priori_error = d[n] - w_rls@u_samples # calculate priori error\n",
    "    w_rls = w_rls + k_gain*priori_error # update filter weights\n",
    "    p_inversecorr = p_inversecorr/lmbd - np.outer(k_gain, u_samples@p_inversecorr)/lmbd# update inverse correlation matrix\n",
    "    \n",
    "    y[n] = w_rls@u_samples # apply weights to observed signal\n",
    "RLS_done = time.time()\n",
    "\n",
    "# calculate and save output signal\n",
    "RLS_output = u - y\n",
    "write(f\"RLS_filtered.wav\", Fs, (RLS_output*u_max).astype(np.int16))\n",
    "\n",
    "#evaluate LMS with time and SNR\n",
    "print(f\"RLS took {RLS_done - RLS_start:.2f} seconds\")\n",
    "SNR_before = calc_SNR(x, u-x)\n",
    "print(f\"SNR before filtering: {SNR_before:.2f} dB\")\n",
    "SNR_after = calc_SNR(x, RLS_output - x)\n",
    "print(f\"SNR after filtering with RLS: {SNR_after:.2f} dB\")"
   ]
  }
 ],
 "metadata": {
  "kernelspec": {
   "display_name": "venv",
   "language": "python",
   "name": "python3"
  },
  "language_info": {
   "codemirror_mode": {
    "name": "ipython",
    "version": 3
   },
   "file_extension": ".py",
   "mimetype": "text/x-python",
   "name": "python",
   "nbconvert_exporter": "python",
   "pygments_lexer": "ipython3",
   "version": "3.10.12"
  }
 },
 "nbformat": 4,
 "nbformat_minor": 2
}
