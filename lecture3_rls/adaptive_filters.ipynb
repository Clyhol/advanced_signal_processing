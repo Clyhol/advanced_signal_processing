{
 "cells": [
  {
   "cell_type": "markdown",
   "metadata": {},
   "source": [
    "## Implement LMS, NLMS and RLS filters and compare performance for noise filtering"
   ]
  },
  {
   "cell_type": "code",
   "execution_count": 1,
   "metadata": {},
   "outputs": [],
   "source": [
    "import numpy as np\n",
    "from scipy.io.wavfile import read, write\n",
    "import time\n"
   ]
  },
  {
   "cell_type": "code",
   "execution_count": 2,
   "metadata": {},
   "outputs": [],
   "source": [
    "# load data and normalize\n",
    "fs1, d = read('data/Noise.wav')\n",
    "d = d/max(d)\n",
    "# Signal\n",
    "fs1, x = read('data/Music.wav')\n",
    "x = x/max(x)\n",
    "# Noisy signal\n",
    "Fs, u = read('data/Noisy_Music.wav')\n",
    "u_max = max(u)\n",
    "u = u/u_max"
   ]
  },
  {
   "cell_type": "code",
   "execution_count": 14,
   "metadata": {},
   "outputs": [],
   "source": [
    "def calc_power(signal):\n",
    "    return np.mean(np.abs(signal)**2)\n",
    "\n",
    "def calc_SNR(signal, noise):\n",
    "    P_sig = calc_power(signal)\n",
    "    P_noise = calc_power(noise)\n",
    "    return 10*np.log10(P_sig/P_noise)"
   ]
  },
  {
   "cell_type": "code",
   "execution_count": 3,
   "metadata": {},
   "outputs": [],
   "source": [
    "# setup filter parameters\n",
    "N = len(d)\n",
    "M = 12\n",
    "\n",
    "# to find the appropriate step size, we need to estimate the power of the signal\n",
    "P_u = 1/N * np.sum(u**2)\n",
    "\n",
    "# mu is found with (mu = alpha / P_u), where alpha is a small constant between 0.01 and 0.1. Stability is guaranteed if mu < 2 / P_u\n",
    "mu = 0.01 / P_u"
   ]
  },
  {
   "cell_type": "code",
   "execution_count": 4,
   "metadata": {},
   "outputs": [],
   "source": [
    "# implement LMS\n",
    "LMS_start = time.time()\n",
    "w_lms = np.random.randn(M) # initialize filter weights at 0\n",
    "u_pad = np.hstack((np.zeros(M-1), u)) # pad noisy signal with zeros\n",
    "y = np.zeros(N) # initialize output signal\n",
    "\n",
    "for n in range(0, N):\n",
    "    u_n = u_pad[n:n+M] # grab M amount of samples from observed signal (-1 because we want to go backwards)\n",
    "    e = d[n] - np.matmul(w_lms,u_n) # calculate error\n",
    "    w_lms = w_lms + mu*e*u_n # update weights\n",
    "    y[n] = np.matmul(w_lms, u_n) # apply weights to observed signal\n",
    "LMS_done = time.time()\n",
    "    \n",
    "# calculate and save output signal\n",
    "LMS_output = u - y\n",
    "write(f\"filtered_signal_LMS_16b.wav\", Fs, (LMS_output*u_max).astype(np.int16))\n",
    "\n",
    "#evaluate LMS with time and SNR\n",
    "LMS_time = LMS_done - LMS_start\n",
    "SNR_before = calc_SNR(x, u-x)\n",
    "print(f\"SNR before filtering: {SNR_before:.2f} dB\")\n",
    "\n"
   ]
  }
 ],
 "metadata": {
  "kernelspec": {
   "display_name": "venv",
   "language": "python",
   "name": "python3"
  },
  "language_info": {
   "codemirror_mode": {
    "name": "ipython",
    "version": 3
   },
   "file_extension": ".py",
   "mimetype": "text/x-python",
   "name": "python",
   "nbconvert_exporter": "python",
   "pygments_lexer": "ipython3",
   "version": "3.10.12"
  }
 },
 "nbformat": 4,
 "nbformat_minor": 2
}
